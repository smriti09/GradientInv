{
  "nbformat": 4,
  "nbformat_minor": 0,
  "metadata": {
    "colab": {
      "provenance": [],
      "authorship_tag": "ABX9TyMiCK1qlFVP9T0qA1Knqywx",
      "include_colab_link": true
    },
    "kernelspec": {
      "name": "python3",
      "display_name": "Python 3"
    },
    "language_info": {
      "name": "python"
    },
    "gpuClass": "standard"
  },
  "cells": [
    {
      "cell_type": "markdown",
      "metadata": {
        "id": "view-in-github",
        "colab_type": "text"
      },
      "source": [
        "<a href=\"https://colab.research.google.com/github/smriti09/GradientInv/blob/main/660_final.ipynb\" target=\"_parent\"><img src=\"https://colab.research.google.com/assets/colab-badge.svg\" alt=\"Open In Colab\"/></a>"
      ]
    },
    {
      "cell_type": "code",
      "execution_count": null,
      "metadata": {
        "id": "1XL2MzhNl5Hw"
      },
      "outputs": [],
      "source": [
        "import torch\n",
        "from torch import nn\n",
        "from torch.utils.data import DataLoader\n",
        "from torchvision import datasets\n",
        "from torchvision.transforms import ToTensor"
      ]
    },
    {
      "cell_type": "code",
      "source": [
        "training_data = datasets.FashionMNIST(\n",
        "    root=\"data\",\n",
        "    train=True,\n",
        "    download=True,\n",
        "    transform=ToTensor(),\n",
        ")\n"
      ],
      "metadata": {
        "id": "lGCuS8ZDkNpS"
      },
      "execution_count": null,
      "outputs": []
    },
    {
      "cell_type": "code",
      "source": [
        "test_data = datasets.FashionMNIST(\n",
        "    root=\"data\",\n",
        "    train=False,\n",
        "    download=True,\n",
        "    transform=ToTensor(),\n",
        ")"
      ],
      "metadata": {
        "id": "V4BZIPUElYIs"
      },
      "execution_count": null,
      "outputs": []
    },
    {
      "cell_type": "code",
      "source": [
        "batch_size = 64\n",
        "\n",
        "# Create data loaders.\n",
        "train_dataloader = DataLoader(training_data, batch_size=batch_size)\n",
        "test_dataloader = DataLoader(test_data, batch_size=batch_size)\n",
        "\n",
        "for X, y in test_dataloader:\n",
        "    print(f\"Shape of X [N, C, H, W]: {X.shape}\")\n",
        "    print(f\"Shape of y: {y.shape} {y.dtype}\")\n",
        "    break"
      ],
      "metadata": {
        "colab": {
          "base_uri": "https://localhost:8080/"
        },
        "id": "gY5BmXyTlZLJ",
        "outputId": "41aaef98-b850-479b-ce9b-dffac1004bf4"
      },
      "execution_count": null,
      "outputs": [
        {
          "output_type": "stream",
          "name": "stdout",
          "text": [
            "Shape of X [N, C, H, W]: torch.Size([64, 1, 28, 28])\n",
            "Shape of y: torch.Size([64]) torch.int64\n"
          ]
        }
      ]
    },
    {
      "cell_type": "code",
      "source": [
        "    import torchvision.transforms as transforms\n",
        "    \n",
        "    cc = torch.cat([training_data[i][0].reshape(-1) for i in range(len(training_data))], dim=0)\n",
        "    data_mean = torch.as_tensor(torch.mean(cc, dim=0).item(),)\n",
        "    data_std = torch.as_tensor(torch.std(cc, dim=0).item(),)\n",
        "    normalize=True\n",
        "    augmentations=True\n",
        "    # Organize preprocessing\n",
        "    transform = transforms.Compose([\n",
        "        transforms.Grayscale(num_output_channels=1),\n",
        "        transforms.ToTensor(),\n",
        "        transforms.Normalize(data_mean, data_std) if normalize else transforms.Lambda(lambda x: x)])\n",
        "    if augmentations:\n",
        "        transform_train = transforms.Compose([\n",
        "            transforms.Grayscale(num_output_channels=1),\n",
        "            transforms.RandomCrop(28, padding=4),\n",
        "            transforms.RandomHorizontalFlip(),\n",
        "            transform])\n",
        "        training_data.transform = transform_train\n",
        "    else:\n",
        "        training_data.transform = transform\n",
        "    test_data.transform = transform"
      ],
      "metadata": {
        "id": "40I_BmADx_3S"
      },
      "execution_count": null,
      "outputs": []
    },
    {
      "cell_type": "code",
      "source": [
        "class NeuralNetwork(nn.Module):\n",
        "    def __init__(self):\n",
        "        super(NeuralNetwork, self).__init__()\n",
        "        self.flatten = nn.Flatten()\n",
        "        self.linear_relu_stack = nn.Sequential(\n",
        "            nn.Linear(28*28, 512),\n",
        "            nn.ReLU(),\n",
        "            nn.Linear(512, 512),\n",
        "            nn.ReLU(),\n",
        "            nn.Linear(512, 10),\n",
        "        )\n",
        "\n",
        "    def forward(self, x):\n",
        "        x = self.flatten(x)\n",
        "        logits = self.linear_relu_stack(x)\n",
        "        return logits"
      ],
      "metadata": {
        "id": "cM6XLPQTlqJF"
      },
      "execution_count": null,
      "outputs": []
    },
    {
      "cell_type": "code",
      "source": [
        "class FNet(nn.Module):\n",
        "    def __init__(self):\n",
        "        super(FNet,self).__init__()\n",
        "        self.fc1=nn.Linear(784,512)\n",
        "        self.fc2=nn.Linear(512,256)\n",
        "        self.out=nn.Linear(256,10)\n",
        "        \n",
        "        # Dropout probability - set for avoiding overfitting\n",
        "        self.dropout=nn.Dropout(0.2)\n",
        "\n",
        "    def forward(self,x):\n",
        "        x = x.view(-1, 28 * 28)        \n",
        "        x=self.dropout(F.relu(self.fc1(x)))\n",
        "        x=self.dropout(F.relu(self.fc2(x)))\n",
        "        x=self.out(x)\n",
        "        return x"
      ],
      "metadata": {
        "id": "IY7eYCqqTayY"
      },
      "execution_count": null,
      "outputs": []
    },
    {
      "cell_type": "code",
      "source": [],
      "metadata": {
        "id": "Y_sCDa2nbwV5"
      },
      "execution_count": null,
      "outputs": []
    },
    {
      "cell_type": "code",
      "source": [
        "class convNet(nn.Module):\n",
        "  def __init__(self):\n",
        "    super(convNet,self).__init__()\n",
        "    self.conv1=nn.Conv2d(in_channels=1,out_channels=16,kernel_size=3,padding=1,stride=1)\n",
        "    self.conv2=nn.Conv2d(in_channels=16,out_channels=32,kernel_size=3,padding=1,stride=1)\n",
        "    self.pool=nn.MaxPool2d(kernel_size=2,stride=2)\n",
        "\n",
        "\n",
        "    self.fc1=nn.Linear(7*7*32,512)\n",
        "    self.fc2=nn.Linear(512,256)\n",
        "    self.out=nn.Linear(256,10)\n",
        "    self.dropout=nn.Dropout(0.2)\n",
        "\n",
        "  def forward(self,x):\n",
        "    x=self.pool(F.relu(self.conv1(x)))\n",
        "    x=self.pool(F.relu(self.conv2(x)))\n",
        "    x=x.view(-1,7*7*32)\n",
        "    x = self.dropout(x)\n",
        "    x=self.dropout(F.relu(self.fc1(x)))\n",
        "    x=self.dropout(F.relu(self.fc2(x)))\n",
        "    x=self.out(x)\n",
        "    return x"
      ],
      "metadata": {
        "id": "PN9f1Kw9Tg28"
      },
      "execution_count": null,
      "outputs": []
    },
    {
      "cell_type": "code",
      "source": [
        "device = \"cuda\" if torch.cuda.is_available() else \"cpu\"\n",
        "print(f\"Using {device} device\")"
      ],
      "metadata": {
        "colab": {
          "base_uri": "https://localhost:8080/"
        },
        "id": "XeLxGPxRmWE3",
        "outputId": "1769c64a-1a2c-4e85-ce9e-fb1a3d2c2659"
      },
      "execution_count": null,
      "outputs": [
        {
          "output_type": "stream",
          "name": "stdout",
          "text": [
            "Using cpu device\n"
          ]
        }
      ]
    },
    {
      "cell_type": "code",
      "source": [
        "model = NeuralNetwork().to(device)\n",
        "print(model)"
      ],
      "metadata": {
        "colab": {
          "base_uri": "https://localhost:8080/"
        },
        "id": "cnTmgenLmzhN",
        "outputId": "5ee4a7e3-942d-4299-fa67-170374891711"
      },
      "execution_count": null,
      "outputs": [
        {
          "output_type": "stream",
          "name": "stdout",
          "text": [
            "NeuralNetwork(\n",
            "  (flatten): Flatten(start_dim=1, end_dim=-1)\n",
            "  (linear_relu_stack): Sequential(\n",
            "    (0): Linear(in_features=784, out_features=512, bias=True)\n",
            "    (1): ReLU()\n",
            "    (2): Linear(in_features=512, out_features=512, bias=True)\n",
            "    (3): ReLU()\n",
            "    (4): Linear(in_features=512, out_features=10, bias=True)\n",
            "  )\n",
            ")\n"
          ]
        }
      ]
    },
    {
      "cell_type": "code",
      "source": [
        "model_1 = FNet().to(device)\n",
        "print(model)"
      ],
      "metadata": {
        "colab": {
          "base_uri": "https://localhost:8080/"
        },
        "id": "sA084Y2zUCxt",
        "outputId": "99448500-e9de-4f02-8d47-05263c4d4388"
      },
      "execution_count": null,
      "outputs": [
        {
          "output_type": "stream",
          "name": "stdout",
          "text": [
            "convNet(\n",
            "  (conv1): Conv2d(1, 16, kernel_size=(3, 3), stride=(1, 1), padding=(1, 1))\n",
            "  (conv2): Conv2d(16, 32, kernel_size=(3, 3), stride=(1, 1), padding=(1, 1))\n",
            "  (pool): MaxPool2d(kernel_size=2, stride=2, padding=0, dilation=1, ceil_mode=False)\n",
            "  (fc1): Linear(in_features=1568, out_features=512, bias=True)\n",
            "  (fc2): Linear(in_features=512, out_features=256, bias=True)\n",
            "  (out): Linear(in_features=256, out_features=10, bias=True)\n",
            "  (dropout): Dropout(p=0.2, inplace=False)\n",
            ")\n"
          ]
        }
      ]
    },
    {
      "cell_type": "code",
      "source": [],
      "metadata": {
        "id": "kMFel4_XaRGC"
      },
      "execution_count": null,
      "outputs": []
    },
    {
      "cell_type": "code",
      "source": [
        "model = convNet().to(device)\n",
        "print(model)"
      ],
      "metadata": {
        "colab": {
          "base_uri": "https://localhost:8080/"
        },
        "id": "aC1DwnrhUDAe",
        "outputId": "bdfa1975-9d4b-446c-88be-96899e04530c"
      },
      "execution_count": null,
      "outputs": [
        {
          "output_type": "stream",
          "name": "stdout",
          "text": [
            "convNet(\n",
            "  (conv1): Conv2d(1, 16, kernel_size=(3, 3), stride=(1, 1), padding=(1, 1))\n",
            "  (conv2): Conv2d(16, 32, kernel_size=(3, 3), stride=(1, 1), padding=(1, 1))\n",
            "  (pool): MaxPool2d(kernel_size=2, stride=2, padding=0, dilation=1, ceil_mode=False)\n",
            "  (fc1): Linear(in_features=1568, out_features=512, bias=True)\n",
            "  (fc2): Linear(in_features=512, out_features=256, bias=True)\n",
            "  (out): Linear(in_features=256, out_features=10, bias=True)\n",
            "  (dropout): Dropout(p=0.2, inplace=False)\n",
            ")\n"
          ]
        }
      ]
    },
    {
      "cell_type": "code",
      "source": [
        "loss_fn = nn.CrossEntropyLoss()\n",
        "optimizer = torch.optim.SGD(model.parameters(), lr=1e-3)"
      ],
      "metadata": {
        "id": "MTgBuDs4m3BX"
      },
      "execution_count": null,
      "outputs": []
    },
    {
      "cell_type": "code",
      "source": [
        "idx = 25\n",
        "import matplotlib.pyplot as plt\n",
        "\n",
        "img, label = test_dataloader.dataset[idx]\n",
        "labels = torch.as_tensor((label,), device=device)\n",
        "ground_truth = torch.as_tensor(img.to(device)).sub(data_mean).div(data_std)\n",
        "print(labels.shape)\n",
        "plt.imshow(ground_truth[0]);\n",
        "print([train_dataloader.dataset.classes[l] for l in labels]);"
      ],
      "metadata": {
        "colab": {
          "base_uri": "https://localhost:8080/",
          "height": 299
        },
        "id": "kYvlbSKunDu_",
        "outputId": "118f410f-73ed-4241-a3d6-699589073c60"
      },
      "execution_count": null,
      "outputs": [
        {
          "output_type": "stream",
          "name": "stdout",
          "text": [
            "torch.Size([1])\n",
            "['Coat']\n"
          ]
        },
        {
          "output_type": "display_data",
          "data": {
            "text/plain": [
              "<Figure size 432x288 with 1 Axes>"
            ],
            "image/png": "[encoded data removed]"
          },
          "metadata": {
            "needs_background": "light"
          }
        }
      ]
    },
    {
      "cell_type": "code",
      "source": [
        "import torchvision\n",
        "arch='nn'\n",
        "ground_truth_denormalized = torch.clamp(ground_truth[0] * data_std + data_mean, 0, 1)\n",
        "torchvision.utils.save_image(ground_truth_denormalized, f'{idx}_{arch}_ImageNet_input.png')"
      ],
      "metadata": {
        "id": "TAa94JT5wXDi"
      },
      "execution_count": null,
      "outputs": []
    },
    {
      "cell_type": "code",
      "source": [
        "model.zero_grad()\n",
        "loss_fn=torch.nn.CrossEntropyLoss(weight=None, size_average=None,ignore_index=-100,reduce=None,reduction='mean')\n",
        "target_loss=loss_fn(model(ground_truth), labels)\n",
        "input_gradient = torch.autograd.grad(target_loss, model.parameters())\n",
        "input_gradient = [grad.detach() for grad in input_gradient]\n",
        "full_norm = torch.stack([g.norm() for g in input_gradient]).mean()\n",
        "print(f'Full gradient norm is {full_norm:e}.')"
      ],
      "metadata": {
        "id": "_wIvYsFL0k0F",
        "colab": {
          "base_uri": "https://localhost:8080/"
        },
        "outputId": "25fe215c-ecc4-491f-a323-877d1879666b"
      },
      "execution_count": null,
      "outputs": [
        {
          "output_type": "stream",
          "name": "stdout",
          "text": [
            "Full gradient norm is 4.323670e+00.\n"
          ]
        }
      ]
    },
    {
      "cell_type": "code",
      "source": [
        "from google.colab import drive\n",
        "drive.mount('/content/drive/')"
      ],
      "metadata": {
        "colab": {
          "base_uri": "https://localhost:8080/"
        },
        "id": "jFNkMrF0G_LE",
        "outputId": "7b6a8b8d-f1e7-4a08-c13b-0308b6e8ec59"
      },
      "execution_count": null,
      "outputs": [
        {
          "output_type": "stream",
          "name": "stdout",
          "text": [
            "Drive already mounted at /content/drive/; to attempt to forcibly remount, call drive.mount(\"/content/drive/\", force_remount=True).\n"
          ]
        }
      ]
    },
    {
      "cell_type": "code",
      "source": [
        "%cd /content/drive/My\\ Drive/Federated_learning/invertinggradients"
      ],
      "metadata": {
        "colab": {
          "base_uri": "https://localhost:8080/"
        },
        "id": "pHxWEn-xVm7w",
        "outputId": "730c24ba-64c5-4332-8d85-84171d2510df"
      },
      "execution_count": null,
      "outputs": [
        {
          "output_type": "stream",
          "name": "stdout",
          "text": [
            "/content/drive/My Drive/Federated_learning/invertinggradients\n"
          ]
        }
      ]
    },
    {
      "cell_type": "code",
      "source": [
        "model_1.zero_grad()\n",
        "loss_fn=torch.nn.CrossEntropyLoss(weight=None, size_average=None,ignore_index=-100,reduce=None,reduction='mean')\n",
        "target_loss=loss_fn(model_1(ground_truth), labels)\n",
        "input_gradient = torch.autograd.grad(target_loss, model_1.parameters())\n",
        "input_gradient = [grad.detach() for grad in input_gradient]\n",
        "full_norm = torch.stack([g.norm() for g in input_gradient]).mean()\n",
        "print(f'Full gradient norm is {full_norm:e}.')"
      ],
      "metadata": {
        "colab": {
          "base_uri": "https://localhost:8080/"
        },
        "id": "xQkxLqtNi6pH",
        "outputId": "9445acd7-7d49-42c4-90d4-23c5513772ac"
      },
      "execution_count": null,
      "outputs": [
        {
          "output_type": "stream",
          "name": "stdout",
          "text": [
            "Full gradient norm is 2.407590e+01.\n"
          ]
        }
      ]
    },
    {
      "cell_type": "code",
      "source": [
        "import inversefed\n",
        "config = dict(signed=True,\n",
        "              boxed=True,\n",
        "              cost_fn='sim',\n",
        "              indices='def',\n",
        "              weights='equal',\n",
        "              lr=0.1,\n",
        "              optim='sgd',\n",
        "              restarts=1,\n",
        "              max_iterations=24_00,\n",
        "              total_variation=1e-1,\n",
        "              init='randn',\n",
        "              filter='none',\n",
        "              lr_decay=True,\n",
        "              scoring_choice='loss')\n",
        "\n",
        "rec_machine = inversefed.GradientReconstructor(model, (data_mean, data_std), config, num_images=1)\n",
        "output, stats = rec_machine.reconstruct(input_gradient, labels, img_shape=(1, 28, 28))\n",
        "\n",
        "test_mse = (output.detach() - ground_truth).pow(2).mean()\n",
        "feat_mse = (model(output.detach())- model(ground_truth)).pow(2).mean()  \n",
        "#test_psnr = inversefed.metrics.psnr(output, ground_trut\n",
        "plt.imshow(output[0][0])"
      ],
      "metadata": {
        "colab": {
          "base_uri": "https://localhost:8080/",
          "height": 435
        },
        "id": "S7G0qpXqV0eW",
        "outputId": "92c524df-7b3d-44b4-9657-d6beddf658ac"
      },
      "execution_count": null,
      "outputs": [
        {
          "output_type": "stream",
          "name": "stdout",
          "text": [
            "It: 0. Rec. loss: 1.0085.\n",
            "It: 500. Rec. loss: 0.1215.\n",
            "It: 1000. Rec. loss: 0.1170.\n",
            "It: 1500. Rec. loss: 0.1151.\n",
            "It: 2000. Rec. loss: 0.1148.\n",
            "It: 2399. Rec. loss: 0.1150.\n",
            "Choosing optimal result ...\n",
            "Optimal result score: 0.0853\n",
            "Total time: 37.54792499542236.\n"
          ]
        },
        {
          "output_type": "execute_result",
          "data": {
            "text/plain": [
              "<matplotlib.image.AxesImage at 0x7f7879c6a8e0>"
            ]
          },
          "metadata": {},
          "execution_count": 16
        },
        {
          "output_type": "display_data",
          "data": {
            "text/plain": [
              "<Figure size 432x288 with 1 Axes>"
            ],
            "image/png": "[encoded data removed]"
          },
          "metadata": {
            "needs_background": "light"
          }
        }
      ]
    },
    {
      "cell_type": "code",
      "source": [
        "def total_variation(x):\n",
        "    dx = torch.mean(torch.abs(x[:, :, :, :-1] - x[:, :, :, 1:]))\n",
        "    dy = torch.mean(torch.abs(x[:, :, :-1, :] - x[:, :, 1:, :]))\n",
        "    return dx + dy"
      ],
      "metadata": {
        "id": "SoZ5dFUhZGz5"
      },
      "execution_count": null,
      "outputs": []
    },
    {
      "cell_type": "code",
      "source": [
        "import time\n",
        "\n",
        "DEFAULT_CONFIG = dict(wt='equal',\n",
        "                      lr=0.1,\n",
        "                      optimizer='adam',\n",
        "                      lr_decay=True,\n",
        "                      signal=False,\n",
        "                      cost_fn='cosine_sim',\n",
        "                      indices='def',\n",
        "                      restarts=1,\n",
        "                      iter=4800,\n",
        "                      total_variation=1e-1,\n",
        "                      init='randn',\n",
        "                      filter='none',\n",
        "                      boxed=True,\n",
        "                      scoring_choice='loss')\n",
        "class recovering_info():\n",
        "    \"\"\"Implementing the algorithm to recover data.\"\"\"\n",
        "\n",
        "    def __init__(self, model, mean_std=(0.0, 1.0), config=DEFAULT_CONFIG, data_points=1):\n",
        "        self.data_points = data_points\n",
        "        self.config = config\n",
        "        self.model = model\n",
        "        self.setup = dict(device=next(model.parameters()).device, dtype=next(model.parameters()).dtype)\n",
        "        self.mean_std = mean_std\n",
        "        self.loss_fn = torch.nn.CrossEntropyLoss()\n",
        "    \n",
        "    def data_initialization(self, data_shape):\n",
        "        \"\"\"for initializing the possible recovered image\"\"\"\n",
        "        if self.config['init'] == 'randn':\n",
        "            return torch.randn((self.data_points, *data_shape), **self.setup)\n",
        "        elif self.config['init'] == 'rand':\n",
        "            return (torch.rand((self.data_points, *data_shape), **self.setup) - 0.5) * 2\n",
        "        elif self.config['init'] == 'zeros':\n",
        "            return torch.zeros((self.data_points, *data_shape), **self.setup)\n",
        "        else:\n",
        "            raise ValueError()\n",
        "    \n",
        "    def reconstruct(self, data_shape, input_data, labels, eval=True):\n",
        "        \"\"\"Reconstruct from gradient.\"\"\"\n",
        "        start_time = time.time()\n",
        "        if eval:\n",
        "            self.model.eval()\n",
        "\n",
        "        cost_val = torch.zeros(1)\n",
        "        x = self.data_initialization(data_shape)\n",
        "        \n",
        "        assert labels.shape[0] == self.data_points\n",
        "\n",
        "        try:\n",
        "            x_attempt = self.trial(x, input_data, labels)\n",
        "            if self.config['scoring_choice'] == 'loss':\n",
        "              self.model.zero_grad()\n",
        "              x_attempt.grad = None\n",
        "              loss = self.loss_fn(self.model(x_attempt), labels)\n",
        "              print(\"after loss\")\n",
        "              gradient = torch.autograd.grad(loss, self.model.parameters(), create_graph=False)\n",
        "              cost_val = self.proposed_cost([gradient], input_gradient, cost_fn=self.config['cost_fn'], indices=self.config['indices'], weights=self.config['wt']) + self.config['total_variation']*total_variation(x_attempt)\n",
        "            x = x_attempt\n",
        "        except:\n",
        "            print('Error occured.')\n",
        "            pass\n",
        "\n",
        "        score = torch.isfinite(cost_val) \n",
        "        print(f'result score: {score}')\n",
        "        print(f'Total time: {time.time()-start_time}.')\n",
        "        return x.detach()\n",
        "    def proposed_cost(self, gradients, input_gradient, cost_fn='biultin_cosine_sim', indices='def', weights='equal'):\n",
        "\n",
        "        if indices == 'def':\n",
        "            indices = torch.arange(len(input_gradient))\n",
        "        elif indices == 'batch':\n",
        "            indices = torch.randperm(len(input_gradient))[:16]\n",
        "        else:\n",
        "            raise ValueError()\n",
        "\n",
        "        \n",
        "        if weights == 'linear':\n",
        "            weights = torch.arange(len(input_gradient), 0, -1, dtype=input_gradient[0].dtype, device=input_gradient[0].device) / len(input_gradient)\n",
        "        elif weights == 'exp':\n",
        "            weights = torch.arange(len(input_gradient), 0, -1, dtype=input_gradient[0].dtype, device=input_gradient[0].device)\n",
        "            weights = weights.softmax(dim=0)\n",
        "            weights = weights / weights[0]\n",
        "        else:\n",
        "            weights = input_gradient[0].new_ones(len(input_gradient))\n",
        "\n",
        "        total_costs = 0\n",
        "        for gradient in gradients:\n",
        "            pnorm = [0, 0]\n",
        "            costs = 0\n",
        "            for i in indices:\n",
        "\n",
        "                if cost_fn == 'cosine_sim':\n",
        "                    costs += (gradient[i] * input_gradient[i]).sum()\n",
        "                    pnorm[0] += gradient[i].pow(2).sum() \n",
        "                    pnorm[1] += input_gradient[i].pow(2).sum()\n",
        "                elif cost_fn == 'builtin_cosine_sim':\n",
        "                    costs += 1 - torch.nn.functional.cosine_similarity(gradient[i].flatten(), input_gradient[i].flatten(),\n",
        "                                                                      0, 1e-10) \n",
        "            if cost_fn == 'cosine_sim':\n",
        "                costs = 1 - costs / pnorm[0].sqrt() / pnorm[1].sqrt()\n",
        "\n",
        "        return costs / len(gradients)\n",
        "\n",
        "    \n",
        "    def trial(self, x_attempt, input_data, labels):\n",
        "        x_attempt.requires_grad = True\n",
        "        if self.config['optimizer'] == 'adam':\n",
        "            optimizer = torch.optim.Adam([x_attempt], lr=self.config['lr'])\n",
        "        elif self.config['optimizer'] == 'sgd':  \n",
        "            optimizer = torch.optim.SGD([x_attempt], lr=0.01, momentum=0.9, nesterov=True)\n",
        "        else:\n",
        "            raise ValueError()\n",
        "        iters = self.config['iter']\n",
        "        dm, ds = self.mean_std\n",
        "\n",
        "        if self.config['lr_decay']:\n",
        "            scheduler = torch.optim.lr_scheduler.MultiStepLR(optimizer, milestones=[iters // 2.667, iters // 1.6,iters // 1.142], gamma=0.1)   # 3/8 5/8 7/8\n",
        "\n",
        "        try:\n",
        "            for iteration in range(iters):\n",
        "                closure = self.step_closure(optimizer, x_attempt, input_data, labels)\n",
        "                reconstruction_loss = optimizer.step(closure)\n",
        "                if self.config['lr_decay']:\n",
        "                    scheduler.step()\n",
        "                with torch.no_grad():\n",
        "                    \n",
        "                    if self.config['boxed']:\n",
        "                        x_attempt.data = torch.max(torch.min(x_attempt, (1 - dm) / ds), -dm / ds)\n",
        "                    if (iteration + 1 == iters) or iteration % 100 == 0:\n",
        "                        print(f'It: {iteration}. Rec. loss: {reconstruction_loss.item():2.4f}.')\n",
        "                    if (iteration + 1) % 100 == 0:\n",
        "                        if self.config['filter'] == 'none':\n",
        "                            pass\n",
        "                        elif self.config['filter'] == 'avg':\n",
        "                            x_attempt.data = torch.nn.AvgPool2d(kernel_size=3, stride=1, padding=1, same=False)(x_attempt)\n",
        "                        else:\n",
        "                            raise ValueError()\n",
        "        except:\n",
        "          print(\"error \")\n",
        "          pass\n",
        "        return x_attempt.detach()\n",
        "\n",
        "    def step_closure(self, optimizer, x_attempt, input_gradient, label):\n",
        "        ##optimizer step needs closure to be callable\n",
        "        def closure():\n",
        "            optimizer.zero_grad()\n",
        "            self.model.zero_grad()\n",
        "            loss= self.loss_fn(self.model(x_attempt), label)\n",
        "            gradient_attempt = torch.autograd.grad(loss, self.model.parameters(), create_graph=True)\n",
        "            \n",
        "            reconstruction_loss = self.proposed_cost([gradient_attempt], input_gradient, cost_fn=self.config['cost_fn'], indices=self.config['indices'], weights=self.config['wt'])\n",
        "            if self.config['total_variation'] > 0:\n",
        "                reconstruction_loss += self.config['total_variation'] * total_variation(x_attempt)\n",
        "            reconstruction_loss.backward()\n",
        "            if self.config['signal']:\n",
        "                x_attempt.grad.sign_()\n",
        "            return reconstruction_loss\n",
        "        return closure\n",
        "\n"
      ],
      "metadata": {
        "id": "_nf45ezLYtkp"
      },
      "execution_count": null,
      "outputs": []
    },
    {
      "cell_type": "code",
      "source": [
        "config = dict(signal=True,\n",
        "              cost_fn='cosine_sim',\n",
        "              indices='def',\n",
        "              wt='equal',\n",
        "              lr=0.1,\n",
        "              optimizer='adam',\n",
        "              iter=24_0,\n",
        "              total_variation=1e-1,\n",
        "              init='randn',\n",
        "              filter='none',\n",
        "              lr_decay=True,\n",
        "              boxed=True,\n",
        "              scoring_choice='loss')\n",
        "\n",
        "rec_machine = recovering_info(model, (data_mean, data_std), config, data_points=1)\n",
        "output = rec_machine.reconstruct((1, 28, 28), input_gradient, labels)\n",
        "\n",
        "test_mse = (output.detach() - ground_truth).pow(2).mean()\n",
        "feat_mse = (model(output.detach())- model(ground_truth)).pow(2).mean()  \n",
        "\n",
        "\n",
        "plt.imshow(output[0][0])"
      ],
      "metadata": {
        "colab": {
          "base_uri": "https://localhost:8080/",
          "height": 401
        },
        "id": "0JMWGpKFYnUT",
        "outputId": "4b823939-1988-4845-bb82-20952d94860d"
      },
      "execution_count": null,
      "outputs": [
        {
          "output_type": "stream",
          "name": "stdout",
          "text": [
            "It: 0. Rec. loss: 1.0087.\n",
            "It: 100. Rec. loss: 0.1200.\n",
            "It: 200. Rec. loss: 0.1155.\n",
            "It: 239. Rec. loss: 0.1155.\n",
            "after loss\n",
            "result score: True\n",
            "Total time: 3.7291738986968994.\n"
          ]
        },
        {
          "output_type": "execute_result",
          "data": {
            "text/plain": [
              "<matplotlib.image.AxesImage at 0x7f7879af5ee0>"
            ]
          },
          "metadata": {},
          "execution_count": 19
        },
        {
          "output_type": "display_data",
          "data": {
            "text/plain": [
              "<Figure size 432x288 with 1 Axes>"
            ],
            "image/png": "[encoded data removed]"
          },
          "metadata": {
            "needs_background": "light"
          }
        }
      ]
    },
    {
      "cell_type": "code",
      "source": [
        "!pwd"
      ],
      "metadata": {
        "colab": {
          "base_uri": "https://localhost:8080/"
        },
        "id": "DZZQENTnlTmc",
        "outputId": "8819ae8e-aded-4f9a-f5ea-62e2e7ef5e52"
      },
      "execution_count": null,
      "outputs": [
        {
          "output_type": "stream",
          "name": "stdout",
          "text": [
            "/content/drive/My Drive/Federated_learning/invertinggradients\n"
          ]
        }
      ]
    },
    {
      "cell_type": "markdown",
      "source": [
        "Trying Power Samples"
      ],
      "metadata": {
        "id": "FL-KQnPIr3T8"
      }
    },
    {
      "cell_type": "code",
      "source": [
        "import numpy as np\n",
        "\n",
        "# Load the .npz file\n",
        "new_tensor1=torch.empty(256, 1000, 1)\n",
        "\n",
        "with np.load('/content/drive/MyDrive/Federated_learning/invertinggradients/data/Power_file1.npz') as data:\n",
        "  # Access the arrays stored in the file\n",
        "  print(data['traces'].shape)\n",
        "  indices=[x for x in range(40000,41000)]\n",
        "  arr=np.take(data['traces'], indices, axis=1)\n",
        "  indices=[x for x in range(0,5)]\n",
        "  arr=np.take(arr, indices, axis=0)\n",
        "  print(arr.shape)\n",
        "  new_tensor1=torch.tensor(arr)\n",
        "  print(new_tensor1.shape)\n"
      ],
      "metadata": {
        "colab": {
          "base_uri": "https://localhost:8080/"
        },
        "id": "MNNYgZN4r-l2",
        "outputId": "0ded7bd8-3925-40bc-f2c1-f2337a6cdd21"
      },
      "execution_count": null,
      "outputs": [
        {
          "output_type": "stream",
          "name": "stdout",
          "text": [
            "(256, 80000, 1)\n",
            "(5, 1000, 1)\n",
            "torch.Size([5, 1000, 1])\n"
          ]
        }
      ]
    },
    {
      "cell_type": "code",
      "source": [
        "output_val1=torch.empty(16,256)\n",
        "with np.load('/content/drive/MyDrive/Federated_learning/invertinggradients/data/Power_file1.npz') as data:\n",
        "  # Print the names and values of all arrays in the file\n",
        "  array = data['keys']\n",
        "  indices=[x for x in range(0,5)]\n",
        "  array=np.take(array[0], indices, axis=0)\n",
        "  output_val1=torch.tensor(array)\n",
        "\n"
      ],
      "metadata": {
        "id": "D9qYnI1dt8xa"
      },
      "execution_count": null,
      "outputs": []
    },
    {
      "cell_type": "code",
      "source": [
        "import matplotlib.pyplot as plt\n",
        "import torch\n",
        "from torchvision import transforms\n",
        "to_pil = transforms.ToPILImage()\n",
        "with np.load('/content/drive/MyDrive/Federated_learning/invertinggradients/data/Power_file1.npz') as data:\n",
        "  # Print the names and values of all arrays in the file\n",
        "  \n",
        "  \n",
        "  indices=[x for x in range(40000,41000)]\n",
        "  arr=np.take(data['traces'], indices, axis=1)\n",
        "  indices=[x for x in range(0,5)]\n",
        "  arr=np.take(arr, indices, axis=0)\n",
        "  print(arr.shape)\n",
        "  plt.plot(arr[0])\n",
        "  plt.show()\n"
      ],
      "metadata": {
        "colab": {
          "base_uri": "https://localhost:8080/",
          "height": 282
        },
        "id": "a0F2VVm1uqcc",
        "outputId": "2f40e375-e516-4372-c94e-67165f23c02d"
      },
      "execution_count": null,
      "outputs": [
        {
          "output_type": "stream",
          "name": "stdout",
          "text": [
            "(5, 1000, 1)\n"
          ]
        },
        {
          "output_type": "display_data",
          "data": {
            "text/plain": [
              "<Figure size 432x288 with 1 Axes>"
            ],
            "image/png": "[encoded data removed]"
          },
          "metadata": {
            "needs_background": "light"
          }
        }
      ]
    },
    {
      "cell_type": "code",
      "source": [
        "output_val2=torch.empty(16,256)\n",
        "with np.load('/content/drive/MyDrive/Federated_learning/invertinggradients/data/Power_file2.npz') as data:\n",
        "  # Print the names and values of all arrays in the file\n",
        "  \n",
        "  array = data['keys']\n",
        "\n",
        "  indices=[x for x in range(0,5)]\n",
        "  array=np.take(array[0], indices, axis=0)\n",
        "  output_val2=torch.tensor(array)\n",
        "  "
      ],
      "metadata": {
        "id": "vewrwLzF6EIN"
      },
      "execution_count": null,
      "outputs": []
    },
    {
      "cell_type": "code",
      "source": [
        "print(output_val2.shape)"
      ],
      "metadata": {
        "colab": {
          "base_uri": "https://localhost:8080/"
        },
        "id": "SBtL1VdJcPkI",
        "outputId": "23f245ea-cd26-4f82-a262-c32b164b2c44"
      },
      "execution_count": null,
      "outputs": [
        {
          "output_type": "stream",
          "name": "stdout",
          "text": [
            "torch.Size([5])\n"
          ]
        }
      ]
    },
    {
      "cell_type": "code",
      "source": [
        "import matplotlib.pyplot as plt\n",
        "with np.load('/content/drive/MyDrive/Federated_learning/invertinggradients/data/Power_file2.npz') as data:\n",
        "  # Print the names and values of all arrays in the file\n",
        "  \n",
        "  array = data['traces']\n",
        "  print(array[0].shape)\n",
        "  plt.plot(array[0])\n",
        "  plt.show()"
      ],
      "metadata": {
        "colab": {
          "base_uri": "https://localhost:8080/",
          "height": 282
        },
        "id": "u4ZiHd6-w2Qv",
        "outputId": "5da7681f-625b-4cae-8b0a-434a153d250d"
      },
      "execution_count": null,
      "outputs": [
        {
          "output_type": "stream",
          "name": "stdout",
          "text": [
            "(80000, 1)\n"
          ]
        },
        {
          "output_type": "display_data",
          "data": {
            "text/plain": [
              "<Figure size 432x288 with 1 Axes>"
            ],
            "image/png": "[encoded data removed]"
          },
          "metadata": {
            "needs_background": "light"
          }
        }
      ]
    },
    {
      "cell_type": "code",
      "source": [
        "import numpy as np\n",
        "\n",
        "# Load the .npz file\n",
        "new_tensor2=torch.empty(256, 1000, 1)\n",
        "\n",
        "with np.load('/content/drive/MyDrive/Federated_learning/invertinggradients/data/Power_file2.npz') as data:\n",
        "  # Access the arrays stored in the file\n",
        "  print(data['traces'].shape)\n",
        "  indices=[x for x in range(40000,41000)]\n",
        "  arr=np.take(data['traces'], indices, axis=1)\n",
        "  indices=[x for x in range(0,5)]\n",
        "  arr=np.take(arr, indices, axis=0)\n",
        "  print(arr.shape)\n",
        "  new_tensor2=torch.tensor(arr)\n",
        "  print(new_tensor2.shape)"
      ],
      "metadata": {
        "colab": {
          "base_uri": "https://localhost:8080/"
        },
        "id": "6mkRZv9U6YK0",
        "outputId": "ca3a06dd-fa02-47fb-80a9-5580635f0d6c"
      },
      "execution_count": null,
      "outputs": [
        {
          "output_type": "stream",
          "name": "stdout",
          "text": [
            "(256, 80000, 1)\n",
            "(5, 1000, 1)\n",
            "torch.Size([5, 1000, 1])\n"
          ]
        }
      ]
    },
    {
      "cell_type": "code",
      "source": [
        "combined_x = torch.cat([new_tensor1, new_tensor2], dim=0)"
      ],
      "metadata": {
        "id": "4Bz6CJK18JQW"
      },
      "execution_count": null,
      "outputs": []
    },
    {
      "cell_type": "code",
      "source": [
        "print(combined_x.shape)"
      ],
      "metadata": {
        "colab": {
          "base_uri": "https://localhost:8080/"
        },
        "id": "f8P9seLW8qhs",
        "outputId": "6279c1bb-319c-422d-f8ce-9e20c1f8e089"
      },
      "execution_count": null,
      "outputs": [
        {
          "output_type": "stream",
          "name": "stdout",
          "text": [
            "torch.Size([10, 1000, 1])\n"
          ]
        }
      ]
    },
    {
      "cell_type": "code",
      "source": [
        "\n",
        "combined_y= torch.cat([output_val1,output_val2],dim=0)\n",
        "print(combined_y.shape)"
      ],
      "metadata": {
        "id": "jxD8_QQ68tRk",
        "colab": {
          "base_uri": "https://localhost:8080/"
        },
        "outputId": "d6861a16-caad-4030-efe1-1fab5a90d629"
      },
      "execution_count": null,
      "outputs": [
        {
          "output_type": "stream",
          "name": "stdout",
          "text": [
            "torch.Size([10])\n"
          ]
        }
      ]
    },
    {
      "cell_type": "code",
      "source": [
        "#untrained model\n",
        "import torch.nn as nn\n",
        "import torch.nn.functional as F\n",
        "\n",
        "\n",
        "class Net(nn.Module):\n",
        "    def __init__(self):\n",
        "        super().__init__()\n",
        "        self.conv1 = nn.Conv1d(1000, 100, 1, stride=10)\n",
        "        self.pool = nn.MaxPool1d(10, 1)\n",
        "        self.conv2 = nn.Conv1d(481, 472, 10)\n",
        "        self.fc1 = nn.Linear(472, 64)\n",
        "        self.fc2 = nn.Linear(64, 16)\n",
        "        self.fc3 = nn.Linear(16, 2)\n",
        "\n",
        "    def forward(self, x):\n",
        "        x = self.pool(F.relu(self.conv1(x)))\n",
        "        x = self.pool(F.relu(self.conv2(x)))\n",
        "        x = torch.flatten(x, 1) # flatten all dimensions except batch\n",
        "        x = F.relu(self.fc1(x))\n",
        "        x = F.relu(self.fc2(x))\n",
        "        x = self.fc3(x)\n",
        "        return x\n",
        "\n",
        "\n"
      ],
      "metadata": {
        "id": "8RTgIq9z871M"
      },
      "execution_count": null,
      "outputs": []
    },
    {
      "cell_type": "code",
      "source": [
        "class NeuralNetwork(nn.Module):\n",
        "    def __init__(self):\n",
        "        super(NeuralNetwork, self).__init__()\n",
        "        self.flatten = nn.Flatten()\n",
        "        self.linear_relu_stack = nn.Sequential(\n",
        "            nn.Linear(1000*1, 256),\n",
        "            nn.ReLU(),\n",
        "            nn.Linear(256, 64),\n",
        "            nn.ReLU(),\n",
        "            nn.Linear(64, 12),\n",
        "        )\n",
        "\n",
        "    def forward(self, x):\n",
        "        x = self.flatten(x)\n",
        "        logits = self.linear_relu_stack(x)\n",
        "        return logits"
      ],
      "metadata": {
        "id": "HK-87P5rJcUY"
      },
      "execution_count": null,
      "outputs": []
    },
    {
      "cell_type": "code",
      "source": [
        "model_1 = NeuralNetwork().to(device)\n",
        "print(model_1)"
      ],
      "metadata": {
        "colab": {
          "base_uri": "https://localhost:8080/"
        },
        "id": "0SjpkMG1_xMg",
        "outputId": "11a02c7b-a9e6-4e48-bc77-bc6cc9c6c497"
      },
      "execution_count": null,
      "outputs": [
        {
          "output_type": "stream",
          "name": "stdout",
          "text": [
            "NeuralNetwork(\n",
            "  (flatten): Flatten(start_dim=1, end_dim=-1)\n",
            "  (linear_relu_stack): Sequential(\n",
            "    (0): Linear(in_features=1000, out_features=256, bias=True)\n",
            "    (1): ReLU()\n",
            "    (2): Linear(in_features=256, out_features=64, bias=True)\n",
            "    (3): ReLU()\n",
            "    (4): Linear(in_features=64, out_features=12, bias=True)\n",
            "  )\n",
            ")\n"
          ]
        }
      ]
    },
    {
      "cell_type": "code",
      "source": [
        "combined_x=combined_x.to(torch.float32)\n",
        "ground_truth = combined_x.to(device)\n",
        "print(ground_truth[0].shape)\n",
        "model_1.zero_grad()\n",
        "labels_1 = combined_y.to(device)\n",
        "loss_fn=torch.nn.CrossEntropyLoss(reduce=None,reduction='mean')\n",
        "target_loss=loss_fn(model_1(ground_truth), labels_1)\n",
        "input_gradient = torch.autograd.grad(target_loss, model_1.parameters())\n",
        "input_gradient = [grad.detach() for grad in input_gradient]\n",
        "full_norm = torch.stack([g.norm() for g in input_gradient]).mean()\n",
        "print(f'Full gradient norm is {full_norm:e}.')"
      ],
      "metadata": {
        "colab": {
          "base_uri": "https://localhost:8080/"
        },
        "id": "MW9h0iXy_6Bw",
        "outputId": "5a467815-8467-4d5a-8b30-564eb6105d6c"
      },
      "execution_count": null,
      "outputs": [
        {
          "output_type": "stream",
          "name": "stdout",
          "text": [
            "torch.Size([1000, 1])\n",
            "Full gradient norm is 4.937598e-01.\n"
          ]
        }
      ]
    },
    {
      "cell_type": "code",
      "source": [
        "import inversefed\n",
        "config = dict(signed=True,\n",
        "              boxed=True,\n",
        "              cost_fn='sim',\n",
        "              indices='def',\n",
        "              weights='equal',\n",
        "              lr=0.1,\n",
        "              optim='adam',\n",
        "              restarts=8,\n",
        "              max_iterations=24_0,\n",
        "              total_variation=1e-1,\n",
        "              init='randn',\n",
        "              filter='none',\n",
        "              lr_decay=True,\n",
        "              scoring_choice='loss')\n",
        "data_mean=torch.as_tensor(0.12,)\n",
        "data_std=torch.as_tensor(0.3,)\n",
        "rec_machine = inversefed.GradientReconstructor(model_1, (data_mean, data_std), config, num_images=1)\n",
        "output, stats = rec_machine.reconstruct(input_gradient, labels, img_shape=(1, 1000, 1))\n",
        "\n",
        "\n",
        "test_mse = (output.detach() - ground_truth).pow(2).mean()\n",
        "\n",
        "plt.imshow(output[0][0])"
      ],
      "metadata": {
        "id": "Wgbuhnf6DOsj"
      },
      "execution_count": null,
      "outputs": []
    },
    {
      "cell_type": "code",
      "source": [
        "print(output.shape)"
      ],
      "metadata": {
        "colab": {
          "base_uri": "https://localhost:8080/"
        },
        "id": "fg282aqLldUP",
        "outputId": "eb0222c9-aa1c-4c63-b378-3729b1a3e83b"
      },
      "execution_count": null,
      "outputs": [
        {
          "output_type": "stream",
          "name": "stdout",
          "text": [
            "torch.Size([1, 1, 1000, 1])\n"
          ]
        }
      ]
    },
    {
      "cell_type": "code",
      "source": [
        "np_arr = output.cpu().detach().numpy()"
      ],
      "metadata": {
        "id": "6FfuUBj7jVan"
      },
      "execution_count": null,
      "outputs": []
    },
    {
      "cell_type": "code",
      "source": [
        "print(np_arr[0].shape)\n",
        "plt.plot(np_arr[0][0])\n",
        "plt.show()"
      ],
      "metadata": {
        "colab": {
          "base_uri": "https://localhost:8080/",
          "height": 282
        },
        "id": "99NA2W6nlz6w",
        "outputId": "b19a38e7-5d72-499d-ce94-8030cb62be59"
      },
      "execution_count": null,
      "outputs": [
        {
          "output_type": "stream",
          "name": "stdout",
          "text": [
            "(1, 1000, 1)\n"
          ]
        },
        {
          "output_type": "display_data",
          "data": {
            "text/plain": [
              "<Figure size 432x288 with 1 Axes>"
            ],
            "image/png": "[encoded data removed]"
          },
          "metadata": {
            "needs_background": "light"
          }
        }
      ]
    },
    {
      "cell_type": "code",
      "source": [
        "import time\n",
        "\n",
        "DEFAULT_CONFIG = dict(wt='equal',\n",
        "                      lr=0.1,\n",
        "                      optimizer='adam',\n",
        "                      lr_decay=True,\n",
        "                      signal=False,\n",
        "                      cost_fn='cosine_sim',\n",
        "                      indices='def',\n",
        "                      restarts=1,\n",
        "                      iter=4800,\n",
        "                      total_variation=1e-1,\n",
        "                      init='randn',\n",
        "                      filter='none',\n",
        "                      boxed=True,\n",
        "                      scoring_choice='loss')\n",
        "class recovering_info():\n",
        "    \"\"\"Implementing the algorithm to recover data.\"\"\"\n",
        "\n",
        "    def __init__(self, model, mean_std=(0.0, 1.0), config=DEFAULT_CONFIG, data_points=1):\n",
        "        self.data_points = data_points\n",
        "        self.config = config\n",
        "        self.model = model\n",
        "        self.setup = dict(device=next(model.parameters()).device, dtype=next(model.parameters()).dtype)\n",
        "        self.mean_std = mean_std\n",
        "        self.loss_fn = torch.nn.CrossEntropyLoss()\n",
        "    \n",
        "    def data_initialization(self, data_shape):\n",
        "        \"\"\"for initializing the possible recovered image\"\"\"\n",
        "        if self.config['init'] == 'randn':\n",
        "            return torch.randn((self.data_points, *data_shape), **self.setup)\n",
        "        elif self.config['init'] == 'rand':\n",
        "            return (torch.rand((self.data_points, *data_shape), **self.setup) - 0.5) * 2\n",
        "        elif self.config['init'] == 'zeros':\n",
        "            return torch.zeros((self.data_points, *data_shape), **self.setup)\n",
        "        else:\n",
        "            raise ValueError()\n",
        "    \n",
        "    def reconstruct(self, data_shape, input_data, labels, eval=True):\n",
        "        \"\"\"Reconstruct from gradient.\"\"\"\n",
        "        start_time = time.time()\n",
        "        if eval:\n",
        "            self.model.eval()\n",
        "\n",
        "        cost_val = torch.zeros(1)\n",
        "        x = self.data_initialization(data_shape)\n",
        "        \n",
        "        assert labels.shape[0] == self.data_points\n",
        "        try:\n",
        "            x_attempt = self.trial(x, input_data, labels)\n",
        "            if self.config['scoring_choice'] == 'loss':\n",
        "              self.model.zero_grad()\n",
        "              x_attempt.grad = None\n",
        "              loss = self.loss_fn(self.model(x_attempt), labels)\n",
        "              gradient = torch.autograd.grad(loss, self.model.parameters(), create_graph=False)\n",
        "              \n",
        "              cost_val = self.proposed_cost([gradient], input_gradient, cost_fn=self.config['cost_fn'], indices=self.config['indices'], weights=self.config['wt']) + self.config['total_variation']*total_variation(x_attempt)\n",
        "            x = x_attempt\n",
        "        except:\n",
        "            print('Error occured.')\n",
        "            pass\n",
        "\n",
        "        score = torch.isfinite(cost_val) # check NaN/-Inf \n",
        "        print(f'result score: {score}')\n",
        "        print(f'Total time: {time.time()-start_time}.')\n",
        "        return x.detach()\n",
        "    def proposed_cost(self, gradients, input_gradient, cost_fn='builtin_cosine_sim', indices='def', weights='equal'):\n",
        "        if indices == 'def':\n",
        "            indices = torch.arange(len(input_gradient))\n",
        "        elif indices == 'batch':\n",
        "            indices = torch.randperm(len(input_gradient))[:16]\n",
        "        else:\n",
        "            raise ValueError()\n",
        "\n",
        "        \n",
        "        if weights == 'linear':\n",
        "            weights = torch.arange(len(input_gradient), 0, -1, dtype=input_gradient[0].dtype, device=input_gradient[0].device) / len(input_gradient)\n",
        "        elif weights == 'exp':\n",
        "            weights = torch.arange(len(input_gradient), 0, -1, dtype=input_gradient[0].dtype, device=input_gradient[0].device)\n",
        "            weights = weights.softmax(dim=0)\n",
        "            weights = weights / weights[0]\n",
        "        else:\n",
        "            weights = input_gradient[0].new_ones(len(input_gradient))\n",
        "\n",
        "        total_costs = 0\n",
        "        for gradient in gradients:\n",
        "            pnorm = [0, 0]\n",
        "            costs = 0\n",
        "            for i in indices:\n",
        "\n",
        "                if cost_fn == 'cosine_sim':\n",
        "                    costs += (gradient[i] * input_gradient[i]).sum()\n",
        "                    pnorm[0] += gradient[i].pow(2).sum() \n",
        "                    pnorm[1] += input_gradient[i].pow(2).sum()\n",
        "                elif cost_fn == 'builtin_cosine_sim':\n",
        "                    costs += 1 - torch.nn.functional.cosine_similarity(gradient[i].flatten(), input_gradient[i].flatten(),\n",
        "                                                                      0, 1e-10) \n",
        "            if cost_fn == 'cosine_sim':\n",
        "                costs = 1 - costs / pnorm[0].sqrt() / pnorm[1].sqrt()\n",
        "\n",
        "        return costs / len(gradients)\n",
        "\n",
        "    \n",
        "    def trial(self, x_attempt, input_data, labels):\n",
        "        x_attempt.requires_grad = True\n",
        "        if self.config['optimizer'] == 'adam':\n",
        "            optimizer = torch.optim.Adam([x_attempt], lr=self.config['lr'])\n",
        "        elif self.config['optimizer'] == 'sgd':  \n",
        "            optimizer = torch.optim.SGD([x_attempt], lr=0.01, momentum=0.9, nesterov=True)\n",
        "        else:\n",
        "            raise ValueError()\n",
        "        iters = self.config['iter']\n",
        "        dm, ds = self.mean_std\n",
        "\n",
        "        if self.config['lr_decay']:\n",
        "            scheduler = torch.optim.lr_scheduler.MultiStepLR(optimizer, milestones=[iters // 2.667, iters // 1.6,iters // 1.142], gamma=0.1)   # 3/8 5/8 7/8\n",
        "\n",
        "        try:\n",
        "            for iteration in range(iters):\n",
        "                closure = self._gradient_closure(optimizer, x_attempt, input_data, labels)\n",
        "                reconstruction_loss = optimizer.step(closure)\n",
        "                if self.config['lr_decay']:\n",
        "                    scheduler.step()\n",
        "                with torch.no_grad():\n",
        "                    print(\"in with\")\n",
        "                    if self.config['boxed']:\n",
        "                        x_attempt.data = torch.max(torch.min(x_attempt, (1 - dm) / ds), -dm / ds)\n",
        "                    print()\n",
        "                    if (iteration + 1 == iters) or iteration % 100 == 0:\n",
        "                        print(f'It: {iteration}. Rec. loss: {reconstruction_loss.item():2.4f}.')\n",
        "                    if (iteration + 1) % 100 == 0:\n",
        "                        if self.config['filter'] == 'none':\n",
        "                            pass\n",
        "                        elif self.config['filter'] == 'avg':\n",
        "                            x_attempt.data = torch.nn.AvgPool2d(kernel_size=3, stride=1, padding=1, same=False)(x_attempt)\n",
        "                        else:\n",
        "                            raise ValueError()\n",
        "        except:\n",
        "          print(\"error \")\n",
        "          pass\n",
        "        return x_attempt.detach()\n",
        "\n",
        "    def _gradient_closure(self, optimizer, x_attempt, input_gradient, label):\n",
        "        ##optimizer step needs closure to be callable\n",
        "        def closure():\n",
        "            optimizer.zero_grad()\n",
        "            self.model.zero_grad()\n",
        "            loss_attempt = self.loss_fn(self.model(x_attempt), label)\n",
        "            gradient_attempt = torch.autograd.grad(loss_attempt, self.model.parameters(), create_graph=True)\n",
        "            reconstruction_loss = self.proposed_cost([gradient_attempt], input_gradient, cost_fn=self.config['cost_fn'], indices=self.config['indices'], weights=self.config['wt'])\n",
        "            if self.config['total_variation'] > 0:\n",
        "                reconstruction_loss += self.config['total_variation'] * total_variation(x_attempt)\n",
        "            reconstruction_loss.backward()\n",
        "\n",
        "            if self.config['signal']:\n",
        "                x_attempt.grad.sign_()\n",
        "            \n",
        "            return reconstruction_loss\n",
        "        return closure\n"
      ],
      "metadata": {
        "id": "gscAg73OX11Q"
      },
      "execution_count": null,
      "outputs": []
    },
    {
      "cell_type": "code",
      "source": [
        "config = dict(signal=True,\n",
        "              cost_fn='cosine_sim',\n",
        "              indices='def',\n",
        "              wt='equal',\n",
        "              lr=0.1,\n",
        "              optimizer='adam',\n",
        "              iter=24_0,\n",
        "              total_variation=1e-1,\n",
        "              init='randn',\n",
        "              filter='none',\n",
        "              lr_decay=True,\n",
        "              boxed=True,\n",
        "              scoring_choice='loss')\n",
        "data_mean=torch.as_tensor(0.12,)\n",
        "data_std=torch.as_tensor(0.3,)\n",
        "rec_machine = recovering_info(model_1, (data_mean, data_std), config, data_points=1)\n",
        "output = rec_machine.reconstruct((1, 1000, 1),input_gradient, labels)\n",
        "\n",
        "\n",
        "test_mse = (output.detach() - ground_truth).pow(2).mean()\n"
      ],
      "metadata": {
        "id": "1TVJ9sczXXZM"
      },
      "execution_count": null,
      "outputs": []
    },
    {
      "cell_type": "code",
      "source": [
        "np_arr = output.cpu().detach().numpy()\n",
        "print(np_arr[0].shape)\n",
        "plt.plot(np_arr[0][0])\n",
        "plt.show()"
      ],
      "metadata": {
        "colab": {
          "base_uri": "https://localhost:8080/",
          "height": 282
        },
        "id": "77FSpjdvDowm",
        "outputId": "ee3db553-3221-430f-9cb7-2384a44db8b4"
      },
      "execution_count": null,
      "outputs": [
        {
          "output_type": "stream",
          "name": "stdout",
          "text": [
            "(1, 1000, 1)\n"
          ]
        },
        {
          "output_type": "display_data",
          "data": {
            "text/plain": [
              "<Figure size 432x288 with 1 Axes>"
            ],
            "image/png": "[encoded data removed]"
          },
          "metadata": {
            "needs_background": "light"
          }
        }
      ]
    },
    {
      "cell_type": "code",
      "source": [
        "import torch \n",
        "from torchvision import transforms,datasets\n",
        "import torch.nn as nn \n",
        "import torch.nn.functional as F\n",
        "from torch.utils.data import SubsetRandomSampler\n",
        "import matplotlib.pyplot as plt \n",
        "import numpy as np "
      ],
      "metadata": {
        "id": "Y31Zb9w5e-I5"
      },
      "execution_count": null,
      "outputs": []
    },
    {
      "cell_type": "code",
      "source": [
        "train_data=datasets.FashionMNIST('data',train=True,download=True,transform=transform)\n",
        "test_data=datasets.FashionMNIST('data',train=False,download=True,transform=transform)\n"
      ],
      "metadata": {
        "id": "Y0jf-tXae-Vu"
      },
      "execution_count": null,
      "outputs": []
    },
    {
      "cell_type": "code",
      "source": [
        "valid_size=0.2\n",
        "train_length=len(train_data)\n",
        "\n",
        "indices=[i for i in range(train_length)]\n",
        "np.random.shuffle(indices)\n",
        "\n",
        "split=int(np.floor(valid_size*train_length))\n",
        "train_idx=indices[split:]\n",
        "valid_idx=indices[:split]\n",
        "\n",
        "\n",
        "train_sampler=SubsetRandomSampler(train_idx)\n",
        "valid_sampler=SubsetRandomSampler(valid_idx)\n",
        "\n",
        "num_workers=0\n",
        "batch_size=20\n",
        "train_loader=torch.utils.data.DataLoader(train_data,batch_size=batch_size,sampler=train_sampler,num_workers=num_workers)\n",
        "valid_loader=torch.utils.data.DataLoader(train_data,batch_size=batch_size,sampler=train_sampler,num_workers=num_workers)\n",
        "test_loader=torch.utils.data.DataLoader(test_data,batch_size=batch_size,num_workers=num_workers)"
      ],
      "metadata": {
        "id": "vCWZvvz8e-gh"
      },
      "execution_count": null,
      "outputs": []
    },
    {
      "cell_type": "code",
      "source": [
        "dataiter=iter(train_loader)\n",
        "images,labels=dataiter.next()\n",
        "print(images, images.shape, len(images), images[0].shape)\n",
        "print()\n",
        "print(labels,labels.shape,len(labels))"
      ],
      "metadata": {
        "id": "vIgVMsyXfTqE"
      },
      "execution_count": null,
      "outputs": []
    },
    {
      "cell_type": "code",
      "source": [
        "model_1=FNet()\n",
        "model_2=convNet()\n",
        "def weight_init_normal(m):\n",
        "    classname=m.__class__.__name__\n",
        "    if classname.find('Linear')!=-1:\n",
        "        n = m.in_features\n",
        "        y = (1.0/np.sqrt(n))\n",
        "        m.weight.data.normal_(0, y)\n",
        "        m.bias.data.fill_(0)\n",
        "model_1.apply(weight_init_normal),model_2.apply(weight_init_normal)\n",
        "use_cuda=True\n",
        "if use_cuda and torch.cuda.is_available():\n",
        "  model_1.cuda()\n",
        "  model_2.cuda()\n",
        "\n",
        "\n",
        "print(model_1,'\\n\\n\\n\\n',model_2,'\\n\\n\\n\\n','On GPU : ',torch.cuda.is_available())\n"
      ],
      "metadata": {
        "colab": {
          "base_uri": "https://localhost:8080/"
        },
        "id": "AyZ-llj-fbR_",
        "outputId": "02b4da4f-7409-400f-c462-c5798ddcdee4"
      },
      "execution_count": null,
      "outputs": [
        {
          "output_type": "stream",
          "name": "stdout",
          "text": [
            "FNet(\n",
            "  (fc1): Linear(in_features=784, out_features=512, bias=True)\n",
            "  (fc2): Linear(in_features=512, out_features=256, bias=True)\n",
            "  (out): Linear(in_features=256, out_features=10, bias=True)\n",
            "  (dropout): Dropout(p=0.2, inplace=False)\n",
            ") \n",
            "\n",
            "\n",
            "\n",
            " convNet(\n",
            "  (conv1): Conv2d(1, 16, kernel_size=(3, 3), stride=(1, 1), padding=(1, 1))\n",
            "  (conv2): Conv2d(16, 32, kernel_size=(3, 3), stride=(1, 1), padding=(1, 1))\n",
            "  (pool): MaxPool2d(kernel_size=2, stride=2, padding=0, dilation=1, ceil_mode=False)\n",
            "  (fc1): Linear(in_features=1568, out_features=512, bias=True)\n",
            "  (fc2): Linear(in_features=512, out_features=256, bias=True)\n",
            "  (out): Linear(in_features=256, out_features=10, bias=True)\n",
            "  (dropout): Dropout(p=0.2, inplace=False)\n",
            ") \n",
            "\n",
            "\n",
            "\n",
            " On GPU :  False\n"
          ]
        }
      ]
    },
    {
      "cell_type": "code",
      "source": [
        "criterion=nn.CrossEntropyLoss()\n",
        "def trainNet(model,lr):\n",
        "    optimizer=torch.optim.Adam(model.parameters(),lr=lr)\n",
        "\n",
        "\n",
        "    # Number of epochs to train for\n",
        "    loss_keeper={'train':[],'valid':[]}\n",
        "    epochs=10\n",
        "\n",
        "    # minimum validation loss ----- set initial minimum to infinity\n",
        "    valid_loss_min = np.Inf \n",
        "\n",
        "    for epoch in range(epochs):\n",
        "        train_loss=0.0\n",
        "        valid_loss=0.0\n",
        "\n",
        "        \"\"\"\n",
        "        TRAINING PHASE\n",
        "        \"\"\"\n",
        "        model.train() # TURN ON DROPOUT for training\n",
        "        for images,labels in train_loader:\n",
        "            if use_cuda and torch.cuda.is_available():\n",
        "                images,labels=images.cuda(),labels.cuda()\n",
        "            optimizer.zero_grad()\n",
        "            output=model(images)\n",
        "            loss=criterion(output,labels)\n",
        "            loss.backward()\n",
        "            optimizer.step()\n",
        "            train_loss+=loss.item()\n",
        "\n",
        "        \"\"\"\n",
        "        VALIDATION PHASE\n",
        "        \"\"\"\n",
        "        model.eval() # TURN OFF DROPOUT for validation\n",
        "        for images,labels in valid_loader:\n",
        "            if use_cuda and torch.cuda.is_available():\n",
        "                images,labels=images.cuda(),labels.cuda()\n",
        "            output=model(images)\n",
        "            loss=criterion(output,labels)\n",
        "            valid_loss+=loss.item()\n",
        "\n",
        "        # Calculating loss over entire batch size for every epoch\n",
        "        train_loss = train_loss/len(train_loader)\n",
        "        valid_loss = valid_loss/len(valid_loader)\n",
        "\n",
        "\n",
        "        # saving loss values\n",
        "        loss_keeper['train'].append(train_loss)\n",
        "        loss_keeper['valid'].append(valid_loss)\n",
        "\n",
        "        print(f\"\\nEpoch : {epoch+1}\\tTraining Loss : {train_loss}\\tValidation Loss : {valid_loss}\")\n",
        "        if valid_loss<=valid_loss_min:\n",
        "            print(f\"Validation loss decreased from : {valid_loss_min} ----> {valid_loss} ----> Saving Model.......\")\n",
        "            z=type(model).__name__\n",
        "            torch.save(model.state_dict(), z+'_model.pth')\n",
        "            valid_loss_min=valid_loss\n",
        "    return(loss_keeper)\n"
      ],
      "metadata": {
        "id": "dMzEj9Ybe-sM"
      },
      "execution_count": null,
      "outputs": []
    },
    {
      "cell_type": "code",
      "source": [
        "m1_loss=trainNet(model_1,0.001)\n",
        "m1_loss"
      ],
      "metadata": {
        "colab": {
          "base_uri": "https://localhost:8080/"
        },
        "id": "1Mx31cswf2Aa",
        "outputId": "dab41cf9-f9e3-4901-8922-042a3a97eba0"
      },
      "execution_count": null,
      "outputs": [
        {
          "output_type": "stream",
          "name": "stdout",
          "text": [
            "\n",
            "Epoch : 1\tTraining Loss : 0.5153943097343048\tValidation Loss : 0.4086757387050117\n",
            "Validation loss decreased from : inf ----> 0.4086757387050117 ----> Saving Model.......\n",
            "\n",
            "Epoch : 2\tTraining Loss : 0.4130363194240878\tValidation Loss : 0.33449051635495075\n",
            "Validation loss decreased from : 0.4086757387050117 ----> 0.33449051635495075 ----> Saving Model.......\n",
            "\n",
            "Epoch : 3\tTraining Loss : 0.38295380687341096\tValidation Loss : 0.3061101445889411\n",
            "Validation loss decreased from : 0.33449051635495075 ----> 0.3061101445889411 ----> Saving Model.......\n",
            "\n",
            "Epoch : 4\tTraining Loss : 0.3615521281003021\tValidation Loss : 0.29372481460294997\n",
            "Validation loss decreased from : 0.3061101445889411 ----> 0.29372481460294997 ----> Saving Model.......\n",
            "\n",
            "Epoch : 5\tTraining Loss : 0.34533165470852206\tValidation Loss : 0.32258061459171583\n",
            "\n",
            "Epoch : 6\tTraining Loss : 0.33585337055303777\tValidation Loss : 0.3030069404114814\n",
            "\n",
            "Epoch : 7\tTraining Loss : 0.3293761242978508\tValidation Loss : 0.27876938014562863\n",
            "Validation loss decreased from : 0.29372481460294997 ----> 0.27876938014562863 ----> Saving Model.......\n",
            "\n",
            "Epoch : 8\tTraining Loss : 0.3185476063589643\tValidation Loss : 0.2607974985300098\n",
            "Validation loss decreased from : 0.27876938014562863 ----> 0.2607974985300098 ----> Saving Model.......\n",
            "\n",
            "Epoch : 9\tTraining Loss : 0.3118486437601193\tValidation Loss : 0.2643866142646099\n",
            "\n",
            "Epoch : 10\tTraining Loss : 0.3007228788729602\tValidation Loss : 0.2622483485409369\n"
          ]
        },
        {
          "output_type": "execute_result",
          "data": {
            "text/plain": [
              "{'train': [0.5153943097343048,\n",
              "  0.4130363194240878,\n",
              "  0.38295380687341096,\n",
              "  0.3615521281003021,\n",
              "  0.34533165470852206,\n",
              "  0.33585337055303777,\n",
              "  0.3293761242978508,\n",
              "  0.3185476063589643,\n",
              "  0.3118486437601193,\n",
              "  0.3007228788729602],\n",
              " 'valid': [0.4086757387050117,\n",
              "  0.33449051635495075,\n",
              "  0.3061101445889411,\n",
              "  0.29372481460294997,\n",
              "  0.32258061459171583,\n",
              "  0.3030069404114814,\n",
              "  0.27876938014562863,\n",
              "  0.2607974985300098,\n",
              "  0.2643866142646099,\n",
              "  0.2622483485409369]}"
            ]
          },
          "metadata": {},
          "execution_count": 182
        }
      ]
    },
    {
      "cell_type": "code",
      "source": [
        "m2_loss=trainNet(model_2,0.001)\n",
        "m2_loss"
      ],
      "metadata": {
        "id": "SYLiHWLEgCqT",
        "colab": {
          "base_uri": "https://localhost:8080/"
        },
        "outputId": "8a1481be-6551-4da7-f1ef-b6338d9354f9"
      },
      "execution_count": null,
      "outputs": [
        {
          "metadata": {
            "tags": null
          },
          "name": "stdout",
          "output_type": "stream",
          "text": [
            "\n",
            "Epoch : 1\tTraining Loss : 0.44169509772521753\tValidation Loss : 0.2679254833298425\n",
            "Validation loss decreased from : inf ----> 0.2679254833298425 ----> Saving Model.......\n",
            "\n",
            "Epoch : 2\tTraining Loss : 0.3014983626557902\tValidation Loss : 0.22593876471393742\n",
            "Validation loss decreased from : 0.2679254833298425 ----> 0.22593876471393742 ----> Saving Model.......\n",
            "\n",
            "Epoch : 3\tTraining Loss : 0.2580039721330589\tValidation Loss : 0.20190245658314476\n",
            "Validation loss decreased from : 0.22593876471393742 ----> 0.20190245658314476 ----> Saving Model.......\n",
            "\n",
            "Epoch : 4\tTraining Loss : 0.23033926340790156\tValidation Loss : 0.18655014054694524\n",
            "Validation loss decreased from : 0.20190245658314476 ----> 0.18655014054694524 ----> Saving Model.......\n",
            "\n",
            "Epoch : 5\tTraining Loss : 0.2081135510869596\tValidation Loss : 0.1511975982263296\n",
            "Validation loss decreased from : 0.18655014054694524 ----> 0.1511975982263296 ----> Saving Model.......\n",
            "\n",
            "Epoch : 6\tTraining Loss : 0.19264196125921443\tValidation Loss : 0.14094046018319203\n",
            "Validation loss decreased from : 0.1511975982263296 ----> 0.14094046018319203 ----> Saving Model.......\n",
            "\n",
            "Epoch : 7\tTraining Loss : 0.17397766516534224\tValidation Loss : 0.11469338893953439\n",
            "Validation loss decreased from : 0.14094046018319203 ----> 0.11469338893953439 ----> Saving Model.......\n",
            "\n",
            "Epoch : 8\tTraining Loss : 0.1623534949997702\tValidation Loss : 0.1251258795557563\n",
            "\n",
            "Epoch : 9\tTraining Loss : 0.15018297225510954\tValidation Loss : 0.09884759733933607\n",
            "Validation loss decreased from : 0.11469338893953439 ----> 0.09884759733933607 ----> Saving Model.......\n"
          ]
        }
      ]
    },
    {
      "cell_type": "code",
      "source": [
        "model_1.load_state_dict(torch.load('FNet_model.pth'))\n"
      ],
      "metadata": {
        "colab": {
          "base_uri": "https://localhost:8080/"
        },
        "id": "VGQzRpnFgP4v",
        "outputId": "5b47356d-2110-435a-804e-5407663b6a4e"
      },
      "execution_count": null,
      "outputs": [
        {
          "output_type": "execute_result",
          "data": {
            "text/plain": [
              "<All keys matched successfully>"
            ]
          },
          "metadata": {},
          "execution_count": 183
        }
      ]
    },
    {
      "cell_type": "code",
      "source": [
        "model_2.load_state_dict(torch.load('convNet_model.pth'))"
      ],
      "metadata": {
        "id": "DPhkiLxLh5N7"
      },
      "execution_count": null,
      "outputs": []
    },
    {
      "cell_type": "code",
      "source": [
        "fashion_class={\n",
        "    0:\"T-shirt/top\",\n",
        "    1:\"Trouser\",\n",
        "    2:\"Pullover\",\n",
        "    3:\"Dress\",\n",
        "    4:\"Coat\",\n",
        "    5:\"Sandal\",\n",
        "    6:\"Shirt\",\n",
        "    7:\"Sneaker\",\n",
        "    8:\"Bag\",\n",
        "    9:\"Ankle boot\"\n",
        "}"
      ],
      "metadata": {
        "id": "-Jm-ZKI_grEH"
      },
      "execution_count": null,
      "outputs": []
    },
    {
      "cell_type": "code",
      "source": [
        "def test(model):\n",
        "    correct=0\n",
        "    test_loss=0\n",
        "    class_correct = list(0. for i in range(10))\n",
        "    class_total = list(0. for i in range(10))\n",
        "\n",
        "    model.eval() # test the model with dropout layers off\n",
        "    for images,labels in test_loader:\n",
        "        if use_cuda and torch.cuda.is_available():\n",
        "            images,labels=images.cuda(),labels.cuda()\n",
        "        output=model(images)\n",
        "        loss=criterion(output,labels)\n",
        "        test_loss+=loss.item()\n",
        "        _,pred=torch.max(output,1)\n",
        "        correct = np.squeeze(pred.eq(labels.data.view_as(pred)))\n",
        "\n",
        "        for i in range(batch_size):\n",
        "            label = labels.data[i]\n",
        "            class_correct[label] += correct[i].item()\n",
        "            class_total[label] += 1\n",
        "\n",
        "\n",
        "    test_loss=test_loss/len(test_loader)\n",
        "    print(f'For {type(model).__name__} :')\n",
        "    print(f\"Test Loss: {test_loss}\")\n",
        "    print(f\"Correctly predicted per class : {class_correct}, Total correctly perdicted : {sum(class_correct)}\")\n",
        "    print(f\"Total Predictions per class : {class_total}, Total predictions to be made : {sum(class_total)}\\n\")\n",
        "    for i in range(10):\n",
        "      if class_total[i] > 0:\n",
        "          print(f\"Test Accuracy of class {fashion_class[i]} : {float(100 * class_correct[i] / class_total[i])}% where {int(np.sum(class_correct[i]))} of {int(np.sum(class_total[i]))} were predicted correctly\")\n",
        "      else:\n",
        "          print('Test Accuracy of %5s: N/A (no training examples)' % (classes[i]))\n",
        "\n",
        "    print(f\"\\nOverall Test Accuracy : {float(100. * np.sum(class_correct) / np.sum(class_total))}% where {int(np.sum(class_correct))} of {int(np.sum(class_total))} were predicted correctly\")\n",
        "    # obtain one batch of test images\n",
        "    dataiter = iter(test_loader)\n",
        "    images, labels = dataiter.next()\n",
        "\n",
        "    # get sample outputs\n",
        "    if use_cuda and torch.cuda.is_available():\n",
        "      images,labels=images.cuda(),labels.cuda()\n",
        "    output = model(images)\n",
        "    \n",
        "    # convert output probabilities to predicted class\n",
        "    _, preds = torch.max(output, 1)\n",
        "    # prep images for display\n",
        "    images = images.cpu().numpy()\n",
        "\n",
        "    fig = plt.figure(figsize=(15, 20))\n",
        "    for idx in np.arange(batch_size):\n",
        "        ax = fig.add_subplot(5, batch_size/5, idx+1, xticks=[], yticks=[])\n",
        "        plt.imshow(np.squeeze(images[idx]))\n",
        "        ax.set_title(\"{}-{} for ({}-{})\".format(str(preds[idx].item()), fashion_class[preds[idx].item()],str(labels[idx].item()),fashion_class[labels[idx].item()]),\n",
        "                    color=(\"blue\" if preds[idx]==labels[idx] else \"red\"))\n"
      ],
      "metadata": {
        "id": "auBI1tAxgXhX"
      },
      "execution_count": null,
      "outputs": []
    },
    {
      "cell_type": "code",
      "source": [
        "test(model_1)\n"
      ],
      "metadata": {
        "colab": {
          "base_uri": "https://localhost:8080/",
          "height": 598
        },
        "id": "Ekq_2BgxgcCG",
        "outputId": "fb85a2b7-e707-48ed-c7e1-2d1d647fd3bc"
      },
      "execution_count": null,
      "outputs": [
        {
          "output_type": "stream",
          "name": "stdout",
          "text": [
            "For FNet :\n",
            "Test Loss: 0.36524642375949773\n",
            "Correctly predicted per class : [770.0, 966.0, 717.0, 878.0, 829.0, 958.0, 722.0, 925.0, 973.0, 961.0], Total correctly perdicted : 8699.0\n",
            "Total Predictions per class : [1000.0, 1000.0, 1000.0, 1000.0, 1000.0, 1000.0, 1000.0, 1000.0, 1000.0, 1000.0], Total predictions to be made : 10000.0\n",
            "\n",
            "Test Accuracy of class T-shirt/top : 77.0% where 770 of 1000 were predicted correctly\n",
            "Test Accuracy of class Trouser : 96.6% where 966 of 1000 were predicted correctly\n",
            "Test Accuracy of class Pullover : 71.7% where 717 of 1000 were predicted correctly\n",
            "Test Accuracy of class Dress : 87.8% where 878 of 1000 were predicted correctly\n",
            "Test Accuracy of class Coat : 82.9% where 829 of 1000 were predicted correctly\n",
            "Test Accuracy of class Sandal : 95.8% where 958 of 1000 were predicted correctly\n",
            "Test Accuracy of class Shirt : 72.2% where 722 of 1000 were predicted correctly\n",
            "Test Accuracy of class Sneaker : 92.5% where 925 of 1000 were predicted correctly\n",
            "Test Accuracy of class Bag : 97.3% where 973 of 1000 were predicted correctly\n",
            "Test Accuracy of class Ankle boot : 96.1% where 961 of 1000 were predicted correctly\n",
            "\n",
            "Overall Test Accuracy : 86.99% where 8699 of 10000 were predicted correctly\n"
          ]
        },
        {
          "output_type": "error",
          "ename": "AttributeError",
          "evalue": "ignored",
          "traceback": [
            "\u001b[0;31m---------------------------------------------------------------------------\u001b[0m",
            "\u001b[0;31mAttributeError\u001b[0m                            Traceback (most recent call last)",
            "\u001b[0;32m<ipython-input-186-f950517ed667>\u001b[0m in \u001b[0;36m<module>\u001b[0;34m\u001b[0m\n\u001b[0;32m----> 1\u001b[0;31m \u001b[0mtest\u001b[0m\u001b[0;34m(\u001b[0m\u001b[0mmodel_1\u001b[0m\u001b[0;34m)\u001b[0m\u001b[0;34m\u001b[0m\u001b[0;34m\u001b[0m\u001b[0m\n\u001b[0m",
            "\u001b[0;32m<ipython-input-185-3c56b38400ec>\u001b[0m in \u001b[0;36mtest\u001b[0;34m(model)\u001b[0m\n\u001b[1;32m     35\u001b[0m     \u001b[0;31m# obtain one batch of test images\u001b[0m\u001b[0;34m\u001b[0m\u001b[0;34m\u001b[0m\u001b[0;34m\u001b[0m\u001b[0m\n\u001b[1;32m     36\u001b[0m     \u001b[0mdataiter\u001b[0m \u001b[0;34m=\u001b[0m \u001b[0miter\u001b[0m\u001b[0;34m(\u001b[0m\u001b[0mtest_loader\u001b[0m\u001b[0;34m)\u001b[0m\u001b[0;34m\u001b[0m\u001b[0;34m\u001b[0m\u001b[0m\n\u001b[0;32m---> 37\u001b[0;31m     \u001b[0mimages\u001b[0m\u001b[0;34m,\u001b[0m \u001b[0mlabels\u001b[0m \u001b[0;34m=\u001b[0m \u001b[0mdataiter\u001b[0m\u001b[0;34m.\u001b[0m\u001b[0mnext\u001b[0m\u001b[0;34m(\u001b[0m\u001b[0;34m)\u001b[0m\u001b[0;34m\u001b[0m\u001b[0;34m\u001b[0m\u001b[0m\n\u001b[0m\u001b[1;32m     38\u001b[0m \u001b[0;34m\u001b[0m\u001b[0m\n\u001b[1;32m     39\u001b[0m     \u001b[0;31m# get sample outputs\u001b[0m\u001b[0;34m\u001b[0m\u001b[0;34m\u001b[0m\u001b[0;34m\u001b[0m\u001b[0m\n",
            "\u001b[0;31mAttributeError\u001b[0m: '_SingleProcessDataLoaderIter' object has no attribute 'next'"
          ]
        }
      ]
    },
    {
      "cell_type": "code",
      "source": [
        "test(model_2)\n"
      ],
      "metadata": {
        "id": "4nxj5apzgc8K"
      },
      "execution_count": null,
      "outputs": []
    }
  ]
}